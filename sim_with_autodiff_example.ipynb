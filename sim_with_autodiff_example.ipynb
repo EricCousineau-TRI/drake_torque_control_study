{
 "cells": [
  {
   "cell_type": "code",
   "execution_count": 1,
   "id": "907b39fa-d81d-41c3-86f2-5db38bbd2803",
   "metadata": {
    "tags": []
   },
   "outputs": [],
   "source": [
    "import numpy as np\n",
    "from pydrake.all import (\n",
    "    AddMultibodyPlant,\n",
    "    AutoDiffXd,\n",
    "    DiagramBuilder,\n",
    "    ExtractGradient,\n",
    "    ExtractValue,\n",
    "    InitializeAutoDiff,\n",
    "    LeafSystem_,\n",
    "    MultibodyPlantConfig,\n",
    "    Parser,\n",
    "    Simulator_,\n",
    ")\n",
    "\n",
    "def autodiff_to_value(v):\n",
    "    \"\"\"Similar to ExtractValue, but retains original shape.\"\"\"\n",
    "    shape = v.shape\n",
    "    return ExtractValue(v).reshape(shape)\n",
    "\n",
    "\n",
    "def autodiff_to_value_and_grad(v):\n",
    "    \"\"\"\n",
    "    Extracts both value and gradient from AutoDiffXd array `v`.\n",
    "    \"\"\"\n",
    "    value = autodiff_to_value(v)\n",
    "    grad = ExtractGradient(v)\n",
    "    return value, grad\n",
    "\n",
    "def np_print_more_like_matlab():\n",
    "    np.set_printoptions(\n",
    "        formatter={\"float_kind\": lambda x: f\"{x: 06.3f}\"},\n",
    "        linewidth=150,\n",
    "    )\n",
    "    \n",
    "np_print_more_like_matlab()"
   ]
  },
  {
   "cell_type": "code",
   "execution_count": 2,
   "id": "02afe70b-5e8c-44e9-9d6f-04d1f7372a48",
   "metadata": {
    "tags": []
   },
   "outputs": [
    {
     "data": {
      "text/plain": [
       "<pydrake.systems.analysis.SimulatorStatus at 0x7f14bf1938f0>"
      ]
     },
     "execution_count": 2,
     "metadata": {},
     "output_type": "execute_result"
    }
   ],
   "source": [
    "system = LeafSystem_[AutoDiffXd]()\n",
    "simulator = Simulator_[AutoDiffXd](system)\n",
    "simulator.AdvanceTo(1.0)"
   ]
  },
  {
   "cell_type": "code",
   "execution_count": 3,
   "id": "c1e0c89a-c6a1-4c48-87e2-09c87a6d0072",
   "metadata": {
    "tags": []
   },
   "outputs": [],
   "source": [
    "def make_sim_diagram():\n",
    "    builder = DiagramBuilder()\n",
    "    config = MultibodyPlantConfig(\n",
    "        # Option 1: Continuous. Can get gradient.\n",
    "        time_step=0.0,\n",
    "        \n",
    "        # # Option 2: TAMSI. Can get gradient.\n",
    "        # # Not sure on accuracy, though (regardless of gradient).\n",
    "        # time_step=0.01,\n",
    "        # discrete_contact_solver=\"tamsi\",\n",
    "        \n",
    "        # # Option 3: SAP. Cannot get gradient when using SceneGraph.\n",
    "        # # https://github.com/RobotLocomotion/drake/issues/17647\n",
    "        # time_step=0.01,\n",
    "        # discrete_contact_solver=\"sap\",\n",
    "    )\n",
    "    plant, scene_graph = AddMultibodyPlant(config, builder)\n",
    "    parser = Parser(plant)\n",
    "    parser.AddModelsFromUrl(\n",
    "        \"package://drake/manipulation/models/franka_description/urdf/panda_arm.urdf\"\n",
    "    )\n",
    "    plant.WeldFrames(\n",
    "        plant.world_frame(),\n",
    "        plant.GetFrameByName(\"panda_link0\"),\n",
    "    )\n",
    "    plant.Finalize()\n",
    "\n",
    "    frame_G = plant.GetFrameByName(\"panda_link8\")\n",
    "    # Blech.\n",
    "    model = plant.GetModelInstanceByName(\"panda\")\n",
    "    builder.ExportOutput(plant.get_state_output_port(), \"state\")\n",
    "    builder.ExportInput(plant.get_actuation_input_port(model), \"torque\")\n",
    "    diagram = builder.Build()\n",
    "    return diagram\n",
    "\n",
    "def run_sim(diagram, t_final, u, *, T=AutoDiffXd):\n",
    "    simulator = Simulator_[T](diagram)\n",
    "    context = simulator.get_context()\n",
    "    u_port = diagram.GetInputPort(\"torque\")\n",
    "    x_port = diagram.GetOutputPort(\"state\")\n",
    "    u_port.FixValue(context, u)\n",
    "    simulator.AdvanceTo(t_final)\n",
    "    x = x_port.Eval(context)\n",
    "    return x"
   ]
  },
  {
   "cell_type": "code",
   "execution_count": 4,
   "id": "7243f4a6-c215-4f8e-94e3-969adacaf243",
   "metadata": {
    "tags": []
   },
   "outputs": [
    {
     "name": "stdout",
     "output_type": "stream",
     "text": [
      "[ 0.278  2.503  1.177 -0.074  5.154  2.572  4.929 -3.489  1.160  4.509 -8.891  7.486  4.838  9.869]\n",
      "---\n",
      "[[ 0.382 -0.194 -0.151 -0.091 -0.033 -0.089  0.004]\n",
      " [ 0.023  0.006  0.233 -0.068 -0.010  0.024  0.000]\n",
      " [ 0.174  0.103  0.532  0.067 -0.083  0.129 -0.007]\n",
      " [ 0.098 -0.577  0.701 -0.675 -0.048 -0.255  0.022]\n",
      " [ 0.025 -0.008  0.107  0.012  1.814 -0.197 -0.020]\n",
      " [ 0.025  0.048  0.093  0.010 -0.117  1.993  0.017]\n",
      " [ 0.004 -0.000 -0.011  0.005 -0.021 -0.000  2.461]\n",
      " [ 1.072 -1.255 -0.218 -1.307  1.112 -0.331  0.132]\n",
      " [ 0.686  1.291 -1.338  3.065 -0.945  0.934 -0.129]\n",
      " [ 0.952  1.895 -1.265  4.784 -1.510  1.702 -0.204]\n",
      " [ 2.917 -3.894  12.757 -11.432  0.747 -3.282  0.311]\n",
      " [-0.026 -0.070 -1.659  0.905  3.763 -3.012 -0.035]\n",
      " [ 0.125 -0.669  0.748 -0.994 -0.565  1.246  0.104]\n",
      " [-0.013  0.036 -0.178  0.135  0.001 -0.301  4.882]]\n"
     ]
    }
   ],
   "source": [
    "diagram = make_sim_diagram()\n",
    "diagram_ad = diagram.ToAutoDiffXd()\n",
    "\n",
    "u = np.ones(7) * 2\n",
    "u_ad = InitializeAutoDiff(u)\n",
    "\n",
    "x_ad = run_sim(diagram_ad, t_final=1.0, u=u_ad, T=AutoDiffXd)\n",
    "\n",
    "x, Jx = autodiff_to_value_and_grad(x_ad)\n",
    "\n",
    "print(x)\n",
    "print(\"---\")\n",
    "print(Jx)"
   ]
  },
  {
   "cell_type": "code",
   "execution_count": null,
   "id": "ded6c568-4c21-4820-8540-484c784ed4d6",
   "metadata": {},
   "outputs": [],
   "source": []
  }
 ],
 "metadata": {
  "kernelspec": {
   "display_name": "Python 3 (ipykernel)",
   "language": "python",
   "name": "python3"
  },
  "language_info": {
   "codemirror_mode": {
    "name": "ipython",
    "version": 3
   },
   "file_extension": ".py",
   "mimetype": "text/x-python",
   "name": "python",
   "nbconvert_exporter": "python",
   "pygments_lexer": "ipython3",
   "version": "3.10.6"
  }
 },
 "nbformat": 4,
 "nbformat_minor": 5
}
